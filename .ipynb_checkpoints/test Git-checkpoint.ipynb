{
 "cells": [
  {
   "cell_type": "code",
   "execution_count": 82,
   "id": "89a5209a",
   "metadata": {},
   "outputs": [],
   "source": [
    "from git import Repo\n",
    "from datetime import date\n",
    "from operator import itemgetter, attrgetter\n",
    "import re,os"
   ]
  },
  {
   "cell_type": "code",
   "execution_count": 3,
   "id": "f88e569f",
   "metadata": {},
   "outputs": [],
   "source": [
    "repo = Repo(\".\")"
   ]
  },
  {
   "cell_type": "code",
   "execution_count": 73,
   "id": "ee2e6dd7",
   "metadata": {},
   "outputs": [
    {
     "data": {
      "text/plain": [
       "[<git.TagReference \"refs/tags/0.5.5\">,\n",
       " <git.TagReference \"refs/tags/a0.4.0\">,\n",
       " <git.TagReference \"refs/tags/a0.4.1\">,\n",
       " <git.TagReference \"refs/tags/a0.4.2\">,\n",
       " <git.TagReference \"refs/tags/a0.4.3\">,\n",
       " <git.TagReference \"refs/tags/a0.4.4\">,\n",
       " <git.TagReference \"refs/tags/a0.5.0\">,\n",
       " <git.TagReference \"refs/tags/a0.5.1\">,\n",
       " <git.TagReference \"refs/tags/a0.5.10\">,\n",
       " <git.TagReference \"refs/tags/a0.5.2\">,\n",
       " <git.TagReference \"refs/tags/a0.5.3\">,\n",
       " <git.TagReference \"refs/tags/a0.5.4\">,\n",
       " <git.TagReference \"refs/tags/a0.5.5\">,\n",
       " <git.TagReference \"refs/tags/a0.5.7\">,\n",
       " <git.TagReference \"refs/tags/a0.5.8\">,\n",
       " <git.TagReference \"refs/tags/a0.5.9\">,\n",
       " <git.TagReference \"refs/tags/v0.1.2\">,\n",
       " <git.TagReference \"refs/tags/v0.1.2.0\">,\n",
       " <git.TagReference \"refs/tags/v0.1.5.0\">,\n",
       " <git.TagReference \"refs/tags/v0.1.5.1\">,\n",
       " <git.TagReference \"refs/tags/v0.3.0.0\">,\n",
       " <git.TagReference \"refs/tags/v0.3.1\">,\n",
       " <git.TagReference \"refs/tags/v0.3.2\">,\n",
       " <git.TagReference \"refs/tags/v0.3.2.1\">,\n",
       " <git.TagReference \"refs/tags/v0.4.0\">,\n",
       " <git.TagReference \"refs/tags/v0.4.0.1\">,\n",
       " <git.TagReference \"refs/tags/v0.5.1\">,\n",
       " <git.TagReference \"refs/tags/{a}{0.5.6}\">]"
      ]
     },
     "execution_count": 73,
     "metadata": {},
     "output_type": "execute_result"
    }
   ],
   "source": [
    "repo.tags"
   ]
  },
  {
   "cell_type": "code",
   "execution_count": 70,
   "id": "cffa9326",
   "metadata": {},
   "outputs": [
    {
     "data": {
      "text/plain": [
       "datetime.date(2022, 11, 22)"
      ]
     },
     "execution_count": 70,
     "metadata": {},
     "output_type": "execute_result"
    }
   ],
   "source": [
    "date.fromtimestamp(1669055010)"
   ]
  },
  {
   "cell_type": "code",
   "execution_count": 72,
   "id": "6f9d942f",
   "metadata": {},
   "outputs": [
    {
     "data": {
      "text/plain": [
       "1669055010"
      ]
     },
     "execution_count": 72,
     "metadata": {},
     "output_type": "execute_result"
    }
   ],
   "source": [
    "repo.tags[3].object.tagged_date"
   ]
  },
  {
   "cell_type": "code",
   "execution_count": 49,
   "id": "0b976acd",
   "metadata": {},
   "outputs": [
    {
     "data": {
      "text/plain": [
       "<git.Commit \"c3ccb7f23bfd990b382b320ab410bb702cb205d8\">"
      ]
     },
     "execution_count": 49,
     "metadata": {},
     "output_type": "execute_result"
    }
   ],
   "source": [
    "repo.tags[\"a0.5.10\"].commit.parents[0].parents[0]"
   ]
  },
  {
   "cell_type": "code",
   "execution_count": 45,
   "id": "61489ce3",
   "metadata": {},
   "outputs": [
    {
     "data": {
      "text/plain": [
       "<git.Commit \"c3ccb7f23bfd990b382b320ab410bb702cb205d8\">"
      ]
     },
     "execution_count": 45,
     "metadata": {},
     "output_type": "execute_result"
    }
   ],
   "source": [
    "repo.tags[\"a0.5.9\"].commit"
   ]
  },
  {
   "cell_type": "code",
   "execution_count": 42,
   "id": "5bdecde2",
   "metadata": {},
   "outputs": [
    {
     "data": {
      "text/plain": [
       "<git.Commit \"c3ccb7f23bfd990b382b320ab410bb702cb205d8\">"
      ]
     },
     "execution_count": 42,
     "metadata": {},
     "output_type": "execute_result"
    }
   ],
   "source": [
    "repo.tags[\"a0.5.9\"].commit"
   ]
  },
  {
   "cell_type": "code",
   "execution_count": 29,
   "id": "160d7007",
   "metadata": {},
   "outputs": [],
   "source": [
    "a = list(repo.iter_commits())"
   ]
  },
  {
   "cell_type": "code",
   "execution_count": 93,
   "id": "41a81a2a",
   "metadata": {},
   "outputs": [
    {
     "data": {
      "text/plain": [
       "['Index',\n",
       " 'NULL_BIN_SHA',\n",
       " 'NULL_HEX_SHA',\n",
       " 'TIobj_tuple',\n",
       " 'TYPES',\n",
       " '__abstractmethods__',\n",
       " '__annotations__',\n",
       " '__class__',\n",
       " '__class_getitem__',\n",
       " '__delattr__',\n",
       " '__dir__',\n",
       " '__doc__',\n",
       " '__eq__',\n",
       " '__format__',\n",
       " '__ge__',\n",
       " '__getattr__',\n",
       " '__getattribute__',\n",
       " '__gt__',\n",
       " '__hash__',\n",
       " '__init__',\n",
       " '__init_subclass__',\n",
       " '__le__',\n",
       " '__lt__',\n",
       " '__module__',\n",
       " '__ne__',\n",
       " '__new__',\n",
       " '__parameters__',\n",
       " '__reduce__',\n",
       " '__reduce_ex__',\n",
       " '__repr__',\n",
       " '__setattr__',\n",
       " '__sizeof__',\n",
       " '__slots__',\n",
       " '__str__',\n",
       " '__subclasshook__',\n",
       " '_abc_impl',\n",
       " '_calculate_sha_',\n",
       " '_deserialize',\n",
       " '_get_intermediate_items',\n",
       " '_id_attribute_',\n",
       " '_is_protocol',\n",
       " '_is_runtime_protocol',\n",
       " '_iter_from_process_or_stream',\n",
       " '_list_traverse',\n",
       " '_process_diff_args',\n",
       " '_serialize',\n",
       " '_set_cache_',\n",
       " '_traverse',\n",
       " 'author',\n",
       " 'author_tz_offset',\n",
       " 'authored_date',\n",
       " 'authored_datetime',\n",
       " 'binsha',\n",
       " 'co_authors',\n",
       " 'committed_date',\n",
       " 'committed_datetime',\n",
       " 'committer',\n",
       " 'committer_tz_offset',\n",
       " 'conf_encoding',\n",
       " 'count',\n",
       " 'create_from_tree',\n",
       " 'data_stream',\n",
       " 'default_encoding',\n",
       " 'diff',\n",
       " 'encoding',\n",
       " 'env_author_date',\n",
       " 'env_committer_date',\n",
       " 'gpgsig',\n",
       " 'hexsha',\n",
       " 'iter_items',\n",
       " 'iter_parents',\n",
       " 'list_items',\n",
       " 'list_traverse',\n",
       " 'message',\n",
       " 'name_rev',\n",
       " 'new',\n",
       " 'new_from_sha',\n",
       " 'parents',\n",
       " 'replace',\n",
       " 'repo',\n",
       " 'size',\n",
       " 'stats',\n",
       " 'stream_data',\n",
       " 'summary',\n",
       " 'trailers',\n",
       " 'traverse',\n",
       " 'tree',\n",
       " 'type']"
      ]
     },
     "execution_count": 93,
     "metadata": {},
     "output_type": "execute_result"
    }
   ],
   "source": [
    "a[3].committed_date"
   ]
  },
  {
   "cell_type": "code",
   "execution_count": 86,
   "id": "63ea644a",
   "metadata": {},
   "outputs": [],
   "source": [
    "def pickCommits(r, currentTag, lastTag):\n",
    "    \n",
    "    lastCommit = r.tags[lastTag].commit\n",
    "    flagCommit = r.tags[currentTag].commit\n",
    "    \n",
    "    newCommits = []\n",
    "    \n",
    "    for i in range(300):\n",
    "        if flagCommit != lastCommit :\n",
    "            newCommits.append(flagCommit)\n",
    "            flagCommit = flagCommit.parents[0]\n",
    "        else:\n",
    "            break\n",
    "            \n",
    "    return newCommits\n",
    "\n",
    "def extractMsg(commits):\n",
    "    r = [ c.message for c in commits]\n",
    "    for _r in r:\n",
    "        if re.match(r\"bump\\sversion\\sto\",_r):\n",
    "            continue\n",
    "        yield _r\n",
    "\n",
    "def updateLogs(_input,st,et):\n",
    "    repo = Repo(\".\")\n",
    "    newCommits = pickCommits(repo,st,et)\n",
    "    \n",
    "    latestCommit = newCommits[0]\n",
    "    latestDate = date.fromtimestamp(latestCommit.committed_date)\n",
    "    newMsgs = list(extractMsg(newCommits))\n",
    "    \n",
    "    with open(_input,'r') as logfile:\n",
    "        r = json.load(_input)\n",
    "    \n",
    "    r['update'] = latestDate\n",
    "    r['record'] = {\"version\":st,\"date\":latestDate,\"changes\":newMsgs} + r['record']\n",
    "    \n",
    "    with open(f\"{_input}_new\",'w') as newfile:\n",
    "        json.dump(newfile, r)\n",
    "    \n",
    "def cleanUpFile(_input,_newInput):\n",
    "    os.remove(_input)\n",
    "    os.rename(_newInput, _input)"
   ]
  },
  {
   "cell_type": "code",
   "execution_count": 94,
   "id": "749b9b95",
   "metadata": {},
   "outputs": [],
   "source": [
    "a= [1,2,3]"
   ]
  },
  {
   "cell_type": "code",
   "execution_count": 95,
   "id": "b65868a8",
   "metadata": {},
   "outputs": [
    {
     "data": {
      "text/plain": [
       "[4, 1, 2, 3]"
      ]
     },
     "execution_count": 95,
     "metadata": {},
     "output_type": "execute_result"
    }
   ],
   "source": [
    "[4]+a"
   ]
  },
  {
   "cell_type": "code",
   "execution_count": 89,
   "id": "509e33bd",
   "metadata": {},
   "outputs": [
    {
     "data": {
      "text/plain": [
       "['normalized cf projection on installment type\\n',\n",
       " 'Remove debug & format\\n',\n",
       " 'expose assumption on asset level\\n',\n",
       " 'seperate Loan from Asset.hs\\n']"
      ]
     },
     "execution_count": 89,
     "metadata": {},
     "output_type": "execute_result"
    }
   ],
   "source": [
    "list(extractMsg(pickCommits(repo, \"a0.5.10\",\"a0.5.7\")))"
   ]
  },
  {
   "cell_type": "code",
   "execution_count": null,
   "id": "3f924d34",
   "metadata": {},
   "outputs": [],
   "source": []
  }
 ],
 "metadata": {
  "kernelspec": {
   "display_name": "Python 3 (ipykernel)",
   "language": "python",
   "name": "python3"
  },
  "language_info": {
   "codemirror_mode": {
    "name": "ipython",
    "version": 3
   },
   "file_extension": ".py",
   "mimetype": "text/x-python",
   "name": "python",
   "nbconvert_exporter": "python",
   "pygments_lexer": "ipython3",
   "version": "3.10.7"
  }
 },
 "nbformat": 4,
 "nbformat_minor": 5
}
